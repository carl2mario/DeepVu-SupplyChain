{
 "cells": [
  {
   "cell_type": "code",
   "execution_count": 1,
   "metadata": {},
   "outputs": [],
   "source": [
    "#importing all the libraries\n",
    "\n",
    "import numpy as np\n",
    "import pandas as pd\n",
    "import matplotlib.pyplot as plt\n",
    "%matplotlib inline"
   ]
  },
  {
   "cell_type": "code",
   "execution_count": 2,
   "metadata": {},
   "outputs": [
    {
     "data": {
      "text/html": [
       "<div>\n",
       "<style scoped>\n",
       "    .dataframe tbody tr th:only-of-type {\n",
       "        vertical-align: middle;\n",
       "    }\n",
       "\n",
       "    .dataframe tbody tr th {\n",
       "        vertical-align: top;\n",
       "    }\n",
       "\n",
       "    .dataframe thead th {\n",
       "        text-align: right;\n",
       "    }\n",
       "</style>\n",
       "<table border=\"1\" class=\"dataframe\">\n",
       "  <thead>\n",
       "    <tr style=\"text-align: right;\">\n",
       "      <th></th>\n",
       "      <th>date</th>\n",
       "      <th>p0</th>\n",
       "      <th>p1</th>\n",
       "      <th>p2</th>\n",
       "      <th>f000_open</th>\n",
       "      <th>f000_high</th>\n",
       "      <th>f000_low</th>\n",
       "      <th>f000_settle</th>\n",
       "      <th>f001_open</th>\n",
       "      <th>f001_high</th>\n",
       "      <th>...</th>\n",
       "      <th>f136_open</th>\n",
       "      <th>f136_high</th>\n",
       "      <th>f136_low</th>\n",
       "      <th>f136_settle</th>\n",
       "      <th>f137_open</th>\n",
       "      <th>f137_high</th>\n",
       "      <th>f137_low</th>\n",
       "      <th>f137_settle</th>\n",
       "      <th>week</th>\n",
       "      <th>week_date</th>\n",
       "    </tr>\n",
       "  </thead>\n",
       "  <tbody>\n",
       "    <tr>\n",
       "      <th>0</th>\n",
       "      <td>20080701</td>\n",
       "      <td>NaN</td>\n",
       "      <td>NaN</td>\n",
       "      <td>NaN</td>\n",
       "      <td>24.72</td>\n",
       "      <td>24.85</td>\n",
       "      <td>23.77</td>\n",
       "      <td>23.80</td>\n",
       "      <td>24.66</td>\n",
       "      <td>24.72</td>\n",
       "      <td>...</td>\n",
       "      <td>16175.0</td>\n",
       "      <td>16240.0</td>\n",
       "      <td>16055.0</td>\n",
       "      <td>16165.0</td>\n",
       "      <td>16185.0</td>\n",
       "      <td>16250.0</td>\n",
       "      <td>16080.0</td>\n",
       "      <td>16145.0</td>\n",
       "      <td>2008</td>\n",
       "      <td>20080630</td>\n",
       "    </tr>\n",
       "    <tr>\n",
       "      <th>1</th>\n",
       "      <td>20080702</td>\n",
       "      <td>NaN</td>\n",
       "      <td>NaN</td>\n",
       "      <td>NaN</td>\n",
       "      <td>23.80</td>\n",
       "      <td>24.99</td>\n",
       "      <td>23.67</td>\n",
       "      <td>24.95</td>\n",
       "      <td>23.72</td>\n",
       "      <td>24.80</td>\n",
       "      <td>...</td>\n",
       "      <td>16130.0</td>\n",
       "      <td>16170.0</td>\n",
       "      <td>15910.0</td>\n",
       "      <td>16045.0</td>\n",
       "      <td>16125.0</td>\n",
       "      <td>16180.0</td>\n",
       "      <td>15880.0</td>\n",
       "      <td>16020.0</td>\n",
       "      <td>2008</td>\n",
       "      <td>20080630</td>\n",
       "    </tr>\n",
       "    <tr>\n",
       "      <th>2</th>\n",
       "      <td>20080703</td>\n",
       "      <td>NaN</td>\n",
       "      <td>NaN</td>\n",
       "      <td>NaN</td>\n",
       "      <td>24.80</td>\n",
       "      <td>25.25</td>\n",
       "      <td>24.49</td>\n",
       "      <td>24.69</td>\n",
       "      <td>24.65</td>\n",
       "      <td>25.06</td>\n",
       "      <td>...</td>\n",
       "      <td>15825.0</td>\n",
       "      <td>15960.0</td>\n",
       "      <td>15470.0</td>\n",
       "      <td>15650.0</td>\n",
       "      <td>15900.0</td>\n",
       "      <td>15950.0</td>\n",
       "      <td>15385.0</td>\n",
       "      <td>15640.0</td>\n",
       "      <td>2008</td>\n",
       "      <td>20080630</td>\n",
       "    </tr>\n",
       "    <tr>\n",
       "      <th>3</th>\n",
       "      <td>20080704</td>\n",
       "      <td>NaN</td>\n",
       "      <td>NaN</td>\n",
       "      <td>NaN</td>\n",
       "      <td>NaN</td>\n",
       "      <td>NaN</td>\n",
       "      <td>NaN</td>\n",
       "      <td>NaN</td>\n",
       "      <td>NaN</td>\n",
       "      <td>NaN</td>\n",
       "      <td>...</td>\n",
       "      <td>15060.0</td>\n",
       "      <td>15260.0</td>\n",
       "      <td>15060.0</td>\n",
       "      <td>15175.0</td>\n",
       "      <td>15055.0</td>\n",
       "      <td>15250.0</td>\n",
       "      <td>15055.0</td>\n",
       "      <td>15155.0</td>\n",
       "      <td>2008</td>\n",
       "      <td>20080630</td>\n",
       "    </tr>\n",
       "    <tr>\n",
       "      <th>4</th>\n",
       "      <td>20080707</td>\n",
       "      <td>NaN</td>\n",
       "      <td>NaN</td>\n",
       "      <td>NaN</td>\n",
       "      <td>24.30</td>\n",
       "      <td>25.30</td>\n",
       "      <td>24.19</td>\n",
       "      <td>24.78</td>\n",
       "      <td>24.33</td>\n",
       "      <td>25.10</td>\n",
       "      <td>...</td>\n",
       "      <td>15100.0</td>\n",
       "      <td>15255.0</td>\n",
       "      <td>15100.0</td>\n",
       "      <td>15190.0</td>\n",
       "      <td>15010.0</td>\n",
       "      <td>15240.0</td>\n",
       "      <td>15010.0</td>\n",
       "      <td>15165.0</td>\n",
       "      <td>2009</td>\n",
       "      <td>20080707</td>\n",
       "    </tr>\n",
       "  </tbody>\n",
       "</table>\n",
       "<p>5 rows × 558 columns</p>\n",
       "</div>"
      ],
      "text/plain": [
       "       date  p0  p1  p2  f000_open  f000_high  f000_low  f000_settle  \\\n",
       "0  20080701 NaN NaN NaN      24.72      24.85     23.77        23.80   \n",
       "1  20080702 NaN NaN NaN      23.80      24.99     23.67        24.95   \n",
       "2  20080703 NaN NaN NaN      24.80      25.25     24.49        24.69   \n",
       "3  20080704 NaN NaN NaN        NaN        NaN       NaN          NaN   \n",
       "4  20080707 NaN NaN NaN      24.30      25.30     24.19        24.78   \n",
       "\n",
       "   f001_open  f001_high    ...      f136_open  f136_high  f136_low  \\\n",
       "0      24.66      24.72    ...        16175.0    16240.0   16055.0   \n",
       "1      23.72      24.80    ...        16130.0    16170.0   15910.0   \n",
       "2      24.65      25.06    ...        15825.0    15960.0   15470.0   \n",
       "3        NaN        NaN    ...        15060.0    15260.0   15060.0   \n",
       "4      24.33      25.10    ...        15100.0    15255.0   15100.0   \n",
       "\n",
       "   f136_settle  f137_open  f137_high  f137_low  f137_settle  week  week_date  \n",
       "0      16165.0    16185.0    16250.0   16080.0      16145.0  2008   20080630  \n",
       "1      16045.0    16125.0    16180.0   15880.0      16020.0  2008   20080630  \n",
       "2      15650.0    15900.0    15950.0   15385.0      15640.0  2008   20080630  \n",
       "3      15175.0    15055.0    15250.0   15055.0      15155.0  2008   20080630  \n",
       "4      15190.0    15010.0    15240.0   15010.0      15165.0  2009   20080707  \n",
       "\n",
       "[5 rows x 558 columns]"
      ]
     },
     "execution_count": 2,
     "metadata": {},
     "output_type": "execute_result"
    }
   ],
   "source": [
    "data=pd.read_csv('metals_daily_train.csv')\n",
    "data.head(5)"
   ]
  },
  {
   "cell_type": "code",
   "execution_count": 3,
   "metadata": {},
   "outputs": [],
   "source": [
    "data=data.drop(columns=['date','week_date'])"
   ]
  },
  {
   "cell_type": "code",
   "execution_count": 4,
   "metadata": {},
   "outputs": [],
   "source": [
    "#Dropping all the rows with p1 values as NaN\n",
    "\n",
    "mask=data['p1'].isnull()\n",
    "nullindex=data[mask].index\n",
    "data=data.drop(axis=0,index=nullindex)"
   ]
  },
  {
   "cell_type": "code",
   "execution_count": 5,
   "metadata": {},
   "outputs": [],
   "source": [
    "#Re-indexing the data frame to continuos series starting from 0\n",
    "\n",
    "ind=np.array(range(data.shape[0]))\n",
    "data=data.set_index(ind)"
   ]
  },
  {
   "cell_type": "code",
   "execution_count": 6,
   "metadata": {},
   "outputs": [],
   "source": [
    "#initializing the new data frames with same columns as data\n",
    "mean_values= pd.DataFrame(columns=data.columns)\n",
    "median_values= pd.DataFrame(columns=data.columns)\n",
    "\n",
    "#Filling the week column of new dataframes with unique values week in data frame\n",
    "weeks = data['week'].unique()\n",
    "mean_values['week']=weeks\n",
    "median_values['week']=weeks"
   ]
  },
  {
   "cell_type": "code",
   "execution_count": 9,
   "metadata": {},
   "outputs": [],
   "source": [
    "column_weeks = data['week']\n",
    "col= data.shape[1]\n",
    "mean_values=mean_values.set_index(mean_values['week'])\n",
    "median_values=median_values.set_index(median_values['week'])\n",
    "row= mean_values.shape[0]\n",
    "\n",
    "\n",
    "for w in range(row):\n",
    "    mask= (column_weeks==weeks[w])\n",
    "    k= column_weeks[mask].index\n",
    "    \n",
    "    for s in range(col):\n",
    "        zeros=0\n",
    "        values=np.array([])\n",
    "        \n",
    "        for t in list(k):\n",
    "            if(pd.isna(data.iloc[t,s])):\n",
    "                zeros+=1\n",
    "            else:\n",
    "                values=np.append(values,data.iloc[t,s])\n",
    "                \n",
    "#calculating the mean values of each column for every week.\n",
    "\n",
    "        if(len(values) == 0):\n",
    "            continue\n",
    "        else:\n",
    "            mean_values.iloc[w,s]= np.mean(values)\n",
    "            median_values.iloc[w,s] = np.median(values)\n",
    "            "
   ]
  },
  {
   "cell_type": "code",
   "execution_count": 10,
   "metadata": {},
   "outputs": [
    {
     "data": {
      "text/plain": [
       "0"
      ]
     },
     "execution_count": 10,
     "metadata": {},
     "output_type": "execute_result"
    }
   ],
   "source": [
    "#forward and backward filling of missing week values\n",
    "\n",
    "mean_values=mean_values.bfill().ffill()\n",
    "mean_values.isnull().values.sum()"
   ]
  },
  {
   "cell_type": "code",
   "execution_count": 11,
   "metadata": {},
   "outputs": [
    {
     "data": {
      "text/plain": [
       "0"
      ]
     },
     "execution_count": 11,
     "metadata": {},
     "output_type": "execute_result"
    }
   ],
   "source": [
    "median_values=median_values.bfill().ffill()\n",
    "median_values.isnull().values.sum()"
   ]
  },
  {
   "cell_type": "code",
   "execution_count": 12,
   "metadata": {},
   "outputs": [],
   "source": [
    "#saving the new data frame as new csv file\n",
    "\n",
    "mean_values.to_csv('mean_values.csv', encoding='utf-8')\n",
    "median_values.to_csv('median_values.csv', encoding='utf-8')"
   ]
  }
 ],
 "metadata": {
  "kernelspec": {
   "display_name": "Python 3",
   "language": "python",
   "name": "python3"
  },
  "language_info": {
   "codemirror_mode": {
    "name": "ipython",
    "version": 3
   },
   "file_extension": ".py",
   "mimetype": "text/x-python",
   "name": "python",
   "nbconvert_exporter": "python",
   "pygments_lexer": "ipython3",
   "version": "3.6.2"
  }
 },
 "nbformat": 4,
 "nbformat_minor": 2
}
